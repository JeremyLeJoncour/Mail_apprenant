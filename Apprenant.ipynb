{
 "cells": [
  {
   "cell_type": "code",
   "execution_count": 1,
   "metadata": {},
   "outputs": [
    {
     "ename": "ModuleNotFoundError",
     "evalue": "No module named 'bdd'",
     "output_type": "error",
     "traceback": [
      "\u001b[1;31m---------------------------------------------------------------------------\u001b[0m",
      "\u001b[1;31mModuleNotFoundError\u001b[0m                       Traceback (most recent call last)",
      "\u001b[1;32m<ipython-input-1-7fc75e0a969b>\u001b[0m in \u001b[0;36m<module>\u001b[1;34m\u001b[0m\n\u001b[1;32m----> 1\u001b[1;33m \u001b[1;32mfrom\u001b[0m \u001b[0mbdd\u001b[0m \u001b[1;32mimport\u001b[0m \u001b[1;33m*\u001b[0m\u001b[1;33m\u001b[0m\u001b[1;33m\u001b[0m\u001b[0m\n\u001b[0m\u001b[0;32m      2\u001b[0m \u001b[1;33m\u001b[0m\u001b[0m\n\u001b[0;32m      3\u001b[0m \u001b[1;32mclass\u001b[0m \u001b[0mApprenant\u001b[0m\u001b[1;33m:\u001b[0m\u001b[1;33m\u001b[0m\u001b[1;33m\u001b[0m\u001b[0m\n\u001b[0;32m      4\u001b[0m     \u001b[1;34m\"\"\"Apprenant de la promo\"\"\"\u001b[0m\u001b[1;33m\u001b[0m\u001b[1;33m\u001b[0m\u001b[0m\n\u001b[0;32m      5\u001b[0m     \u001b[0mbdd\u001b[0m \u001b[1;33m=\u001b[0m \u001b[0mBDD\u001b[0m\u001b[1;33m(\u001b[0m\u001b[1;34m'projet3'\u001b[0m\u001b[1;33m,\u001b[0m \u001b[1;34m'root'\u001b[0m\u001b[1;33m,\u001b[0m \u001b[1;34m'root'\u001b[0m\u001b[1;33m,\u001b[0m \u001b[1;34m'localhost'\u001b[0m\u001b[1;33m,\u001b[0m \u001b[1;34m'8081'\u001b[0m\u001b[1;33m,\u001b[0m \u001b[1;32mTrue\u001b[0m\u001b[1;33m)\u001b[0m\u001b[1;33m\u001b[0m\u001b[1;33m\u001b[0m\u001b[0m\n",
      "\u001b[1;31mModuleNotFoundError\u001b[0m: No module named 'bdd'"
     ]
    }
   ],
   "source": [
    "from bdd import BDD\n",
    "\n",
    "class Apprenant:\n",
    "    #Apprenant de la promotion\n",
    "    bdd = BDD('projet3', 'root', 'root', 'localhost', '8081', True)\n",
    "    \n",
    "    #Choisir ou enregistrer un apprenant\n",
    "    def __init__(self, prenom, nom):\n",
    "        self.prenom = prenom\n",
    "        self.nom = nom\n",
    "        lignes = Apprenant.bdd.select(\"table_apprenants\", \"prenom = '{}' AND nom = '{}'\".format(prenom, nom), '*')\n",
    "        if not lignes:\n",
    "            Apprenant.bdd.inserer(\"table_apprenants\", prenom = prenom, nom = nom)\n",
    "            lignes = Apprenant.bdd.select(\"table_apprenants\", \"prenom = '{}' AND nom = '{}'\".format(prenom, nom), '*')\n",
    "        for ligne in lignes:\n",
    "            self.id = ligne[0]\n",
    "            self.pseudo = ligne[3]\n",
    "            self.email = ligne[4]\n",
    "    \n",
    "            \n",
    "    #Mettre à jour l'e-mail de l'apprenant\n",
    "    def upmail(self, mail):\n",
    "        Apprenant.bdd.update(\"table_apprenants\", \"id_apprenant = {}\".format(self.id), email = mail)"
   ]
  },
  {
   "cell_type": "code",
   "execution_count": null,
   "metadata": {},
   "outputs": [],
   "source": []
  }
 ],
 "metadata": {
  "kernelspec": {
   "display_name": "Python 3",
   "language": "python",
   "name": "python3"
  },
  "language_info": {
   "codemirror_mode": {
    "name": "ipython",
    "version": 3
   },
   "file_extension": ".py",
   "mimetype": "text/x-python",
   "name": "python",
   "nbconvert_exporter": "python",
   "pygments_lexer": "ipython3",
   "version": "3.8.3"
  }
 },
 "nbformat": 4,
 "nbformat_minor": 4
}
