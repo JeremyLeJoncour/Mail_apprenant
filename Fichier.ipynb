{
 "cells": [
  {
   "cell_type": "code",
   "execution_count": null,
   "metadata": {},
   "outputs": [],
   "source": [
    "import os\n",
    "\n",
    "#Gestion des fichiers\n",
    "class Fichier:\n",
    "    #Ouverture fichier et Lecture\n",
    "    def __init__(self, chemin):\n",
    "        self.chemin = chemin\n",
    "    def afficher(self):\n",
    "        lien = open(self.chemin, 'r')\n",
    "        contenu = lien.read()\n",
    "        print(contenu)\n",
    "        lien.close()\n",
    "    def listeF(self):\n",
    "        lien = open(self.chemin, 'r')\n",
    "        contenu = lien.read()\n",
    "        liste = contenu.split('\\n')\n",
    "        lien.close()\n",
    "        return liste\n",
    "\n",
    "#Changer de repertoir courant\n",
    "def cd(chemin):\n",
    "    os.chdir(chemin)\n",
    "    \n",
    "#Afficher le repertoir courant\n",
    "def pwd():\n",
    "    print(os.getcwd())\n",
    "\n",
    "#Test de la fonction table\n",
    "if __name__ == \"__main__\":\n",
    "    pwd()"
   ]
  }
 ],
 "metadata": {
  "kernelspec": {
   "display_name": "Python 3",
   "language": "python",
   "name": "python3"
  },
  "language_info": {
   "codemirror_mode": {
    "name": "ipython",
    "version": 3
   },
   "file_extension": ".py",
   "mimetype": "text/x-python",
   "name": "python",
   "nbconvert_exporter": "python",
   "pygments_lexer": "ipython3",
   "version": "3.8.3"
  }
 },
 "nbformat": 4,
 "nbformat_minor": 4
}
