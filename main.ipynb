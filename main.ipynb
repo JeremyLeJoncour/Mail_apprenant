{
 "cells": [
  {
   "cell_type": "code",
   "execution_count": 1,
   "metadata": {},
   "outputs": [
    {
     "name": "stdout",
     "output_type": "stream",
     "text": [
      "C:\\Users\\utilisateur\\Documents\\microsoft_ia\\microsoft_ia\\Projet3\n",
      "requète = SELECT id_apprenant FROM table_apprenants WHERE 1 ORDER BY prenom, nom\n",
      "i = 0 ; mail =  amaury.bonneau@isen-ouest.yncrea.fr\n",
      "requète = UPDATE table_apprenants SET email = 'amaury.bonneau@isen-ouest.yncrea.fr' WHERE id_apprenant = 1\n",
      "i = 1 ; mail =  aude.pertron@isen-ouest.yncrea.fr\n",
      "requète = UPDATE table_apprenants SET email = 'aude.pertron@isen-ouest.yncrea.fr' WHERE id_apprenant = 2\n",
      "i = 2 ; mail =  baptiste.le-berre@isen-ouest.yncrea.fr\n",
      "requète = UPDATE table_apprenants SET email = 'baptiste.le-berre@isen-ouest.yncrea.fr' WHERE id_apprenant = 3\n",
      "i = 3 ; mail =  baptiste.le-goff@isen-ouest.yncrea.fr\n",
      "requète = UPDATE table_apprenants SET email = 'baptiste.le-goff@isen-ouest.yncrea.fr' WHERE id_apprenant = 4\n",
      "i = 4 ; mail =  celine.guillen@isen-ouest.yncrea.fr\n",
      "requète = UPDATE table_apprenants SET email = 'celine.guillen@isen-ouest.yncrea.fr' WHERE id_apprenant = 5\n",
      "i = 5 ; mail =  christelle.karfaoui@isen-ouest.yncrea.fr\n",
      "requète = UPDATE table_apprenants SET email = 'christelle.karfaoui@isen-ouest.yncrea.fr' WHERE id_apprenant = 6\n",
      "i = 6 ; mail =  christian.mbarga-mvogo@isen-ouest.yncrea.fr\n",
      "requète = UPDATE table_apprenants SET email = 'christian.mbarga-mvogo@isen-ouest.yncrea.fr' WHERE id_apprenant = 7\n",
      "i = 7 ; mail =  erwan.cloatre@isen-ouest.yncrea.fr\n",
      "requète = UPDATE table_apprenants SET email = 'erwan.cloatre@isen-ouest.yncrea.fr' WHERE id_apprenant = 8\n",
      "i = 8 ; mail =  eva.moulard@isen-ouest.yncrea.fr\n",
      "requète = UPDATE table_apprenants SET email = 'eva.moulard@isen-ouest.yncrea.fr' WHERE id_apprenant = 9\n",
      "i = 9 ; mail =  guillaume.verpoest@isen-ouest.yncrea.fr\n",
      "requète = UPDATE table_apprenants SET email = 'guillaume.verpoest@isen-ouest.yncrea.fr' WHERE id_apprenant = 10\n",
      "i = 10 ; mail =  jamal.ibanni@isen-ouest.yncrea.fr\n",
      "requète = UPDATE table_apprenants SET email = 'jamal.ibanni@isen-ouest.yncrea.fr' WHERE id_apprenant = 11\n",
      "i = 11 ; mail =  jeremy.le-joncour@isen-ouest.yncrea.fr\n",
      "requète = UPDATE table_apprenants SET email = 'jeremy.le-joncour@isen-ouest.yncrea.fr' WHERE id_apprenant = 12\n",
      "i = 12 ; mail =  julien.furiga@isen-ouest.yncrea.fr\n",
      "requète = UPDATE table_apprenants SET email = 'julien.furiga@isen-ouest.yncrea.fr' WHERE id_apprenant = 13\n",
      "i = 13 ; mail =  ludivine.maintier@isen-ouest.yncrea.fr\n",
      "requète = UPDATE table_apprenants SET email = 'ludivine.maintier@isen-ouest.yncrea.fr' WHERE id_apprenant = 14\n",
      "i = 14 ; mail =  luigi.bokalli@isen-ouest.yncrea.fr\n",
      "requète = UPDATE table_apprenants SET email = 'luigi.bokalli@isen-ouest.yncrea.fr' WHERE id_apprenant = 15\n",
      "i = 15 ; mail =  patricia.le-moal@isen-ouest.yncrea.fr\n",
      "requète = UPDATE table_apprenants SET email = 'patricia.le-moal@isen-ouest.yncrea.fr' WHERE id_apprenant = 16\n",
      "i = 16 ; mail =  paul.sabia@isen-ouest.yncrea.fr\n",
      "requète = UPDATE table_apprenants SET email = 'paul.sabia@isen-ouest.yncrea.fr' WHERE id_apprenant = 17\n",
      "i = 17 ; mail =  pereg.hergoualch@isen-ouest.yncrea.fr\n",
      "requète = UPDATE table_apprenants SET email = 'pereg.hergoualch@isen-ouest.yncrea.fr' WHERE id_apprenant = 18\n",
      "i = 18 ; mail =  ronan.rioual@isen-ouest.yncrea.fr\n",
      "requète = UPDATE table_apprenants SET email = 'ronan.rioual@isen-ouest.yncrea.fr' WHERE id_apprenant = 19\n",
      "i = 19 ; mail =  thomas.chaigneau@isen-ouest.yncrea.fr\n",
      "requète = UPDATE table_apprenants SET email = 'thomas.chaigneau@isen-ouest.yncrea.fr' WHERE id_apprenant = 20\n",
      "requète = SELECT * FROM table_apprenants WHERE 1\n",
      "[(1, 'Amaury', 'Bonneau', 'amaury.bonneau@isen-ouest.yncrea.fr'), (2, 'Aude', 'Pertron', 'aude.pertron@isen-ouest.yncrea.fr'), (3, 'Baptiste', 'Le Berre', 'baptiste.le-berre@isen-ouest.yncrea.fr'), (4, 'Baptiste', 'Le Goff', 'baptiste.le-goff@isen-ouest.yncrea.fr'), (5, 'Celine', 'Guillen', 'celine.guillen@isen-ouest.yncrea.fr'), (6, 'Christelle', 'Karfaoui', 'christelle.karfaoui@isen-ouest.yncrea.fr'), (7, 'Christian', 'Mbarga Mvogo', 'christian.mbarga-mvogo@isen-ouest.yncrea.fr'), (8, 'Erwan', 'Cloatre', 'erwan.cloatre@isen-ouest.yncrea.fr'), (9, 'Eva', 'Moulard', 'eva.moulard@isen-ouest.yncrea.fr'), (10, 'Guillaume', 'Verpoest', 'guillaume.verpoest@isen-ouest.yncrea.fr'), (11, 'Jamal', 'Ibanni', 'jamal.ibanni@isen-ouest.yncrea.fr'), (12, 'Jeremy', 'Le Joncour', 'jeremy.le-joncour@isen-ouest.yncrea.fr'), (13, 'Julien', 'Furiga', 'julien.furiga@isen-ouest.yncrea.fr'), (14, 'Ludivine', 'Maintier', 'ludivine.maintier@isen-ouest.yncrea.fr'), (15, 'Luigi', 'Bokalli', 'luigi.bokalli@isen-ouest.yncrea.fr'), (16, 'Patricia', 'Le Moal', 'patricia.le-moal@isen-ouest.yncrea.fr'), (17, 'Paul', 'Sabia', 'paul.sabia@isen-ouest.yncrea.fr'), (18, 'Pereg', \"Hergoualc'h\", 'pereg.hergoualch@isen-ouest.yncrea.fr'), (19, 'Ronan', 'Rioual', 'ronan.rioual@isen-ouest.yncrea.fr'), (20, 'Thomas', 'Chaigneau', 'thomas.chaigneau@isen-ouest.yncrea.fr')]\n"
     ]
    }
   ],
   "source": [
    "from Fichier import Fichier\n",
    "from Apprenant import Apprenant\n",
    "\n",
    "lien = Fichier(r\"C:/Users/utilisateur/Documents/microsoft_ia/microsoft_ia/Projet3/apprenantmail.txt\")\n",
    "mails = lien.listeF()\n",
    "\n",
    "# Apprenant.bdd.ajoutcolonne(\"apprenants\", \"email varchar(255)\")\n",
    "apps = Apprenant.bdd.select(\"table_apprenants\", \"1 ORDER BY prenom, nom\", \"id_apprenant\")\n",
    "i = 0\n",
    "for a in apps:\n",
    "    print(\"i =\", i, \"; mail = \", mails[i])\n",
    "    Apprenant.bdd.update(\"table_apprenants\", \"id_apprenant = {}\".format(a[0]), email = mails[i])\n",
    "    i += 1\n",
    "print(Apprenant.bdd.select(\"table_apprenants\", 1, '*'))"
   ]
  },
  {
   "cell_type": "code",
   "execution_count": null,
   "metadata": {},
   "outputs": [],
   "source": []
  },
  {
   "cell_type": "code",
   "execution_count": null,
   "metadata": {},
   "outputs": [],
   "source": []
  }
 ],
 "metadata": {
  "kernelspec": {
   "display_name": "Python 3",
   "language": "python",
   "name": "python3"
  },
  "language_info": {
   "codemirror_mode": {
    "name": "ipython",
    "version": 3
   },
   "file_extension": ".py",
   "mimetype": "text/x-python",
   "name": "python",
   "nbconvert_exporter": "python",
   "pygments_lexer": "ipython3",
   "version": "3.8.3"
  }
 },
 "nbformat": 4,
 "nbformat_minor": 4
}
